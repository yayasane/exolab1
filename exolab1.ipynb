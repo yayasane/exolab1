{
  "nbformat": 4,
  "nbformat_minor": 0,
  "metadata": {
    "colab": {
      "provenance": [],
      "authorship_tag": "ABX9TyMKFn1GzhEZS2ms+a2ap1WO",
      "include_colab_link": true
    },
    "kernelspec": {
      "name": "python3",
      "display_name": "Python 3"
    },
    "language_info": {
      "name": "python"
    }
  },
  "cells": [
    {
      "cell_type": "markdown",
      "metadata": {
        "id": "view-in-github",
        "colab_type": "text"
      },
      "source": [
        "<a href=\"https://colab.research.google.com/github/yayasane/exolab1/blob/main/exolab1.ipynb\" target=\"_parent\"><img src=\"https://colab.research.google.com/assets/colab-badge.svg\" alt=\"Open In Colab\"/></a>"
      ]
    },
    {
      "cell_type": "code",
      "execution_count": 2,
      "metadata": {
        "colab": {
          "base_uri": "https://localhost:8080/"
        },
        "id": "xXHnPE3vWL7l",
        "outputId": "7df6aa6d-a4bf-4dc0-d51a-cec9564caec1"
      },
      "outputs": [
        {
          "output_type": "stream",
          "name": "stdout",
          "text": [
            "[5.196152422706632, 5.196152422706632, 5.196152422706632]\n"
          ]
        }
      ],
      "source": [
        "import math\n",
        "\n",
        "# fonction qui calcule la distance euclidienne entre deux points dans un espace tridimensionnel\n",
        "def calc_distance(point1, point2):\n",
        "    # Extraction des coordonnées (x, y, z) des deux points\n",
        "    x1, y1, z1 = point1\n",
        "    x2, y2, z2 = point2\n",
        "\n",
        "    # Calcul de la distance en utilisant la formule de la distance euclidienne : √((x2 - x1)² + (y2 - y1)² + (z2 - z1)²)\n",
        "    distance = math.sqrt((x2 - x1) ** 2 + (y2 - y1) ** 2 + (z2 - z1) ** 2)\n",
        "\n",
        "    return distance\n",
        "\n",
        "# Créeation deux listes pour stocker des points dans l'espace tridimensionnel\n",
        "point1 = [(1.0, 1.0, 1.0), (2.0, 2.0, 2.0), (3.0, 3.0, 3.0)]\n",
        "point2 = [(4.0, 4.0, 4.0), (5.0, 5.0, 5.0), (6.0, 6.0, 6.0)]\n",
        "\n",
        "# fonction de mapping personnalisée qui applique une fonction spécifiée aux éléments correspondants de deux listes, puis retournez le résultat\n",
        "def my_map(func, list1, list2):\n",
        "# Utilisation de la compréhension de liste pour appliquer la fonction à chaque paire d'éléments de list1 et list2\n",
        "    return [func(elem1, elem2) for elem1, elem2 in zip(list1, list2)]\n",
        "\n",
        "# Calcule des distances entre les points correspondants dans les listes point1 et point2\n",
        "distances = my_map(calc_distance, point1, point2)\n",
        "\n",
        "# les distances calculées\n",
        "print(distances)\n"
      ]
    }
  ]
}